{
 "cells": [
  {
   "cell_type": "markdown",
   "metadata": {},
   "source": [
    "Load Packages"
   ]
  },
  {
   "cell_type": "code",
   "execution_count": 1,
   "metadata": {},
   "outputs": [],
   "source": [
    "import numpy as np\n",
    "import pandas as pd\n",
    "\n",
    "import matplotlib.pyplot as plt\n",
    "import seaborn as sns\n",
    "%matplotlib inline\n",
    "\n",
    "from collections import Counter\n",
    "\n",
    "from sklearn.neural_network import MLPClassifier\n",
    "from sklearn.preprocessing import StandardScaler\n",
    "from sklearn.ensemble import RandomForestClassifier\n",
    "from sklearn.linear_model import LogisticRegression\n",
    "from sklearn.model_selection import GridSearchCV, cross_val_score, StratifiedKFold, learning_curve, train_test_split\n",
    "from sklearn.metrics import brier_score_loss\n",
    "\n",
    "#import xgboost as xgb\n",
    "#from xgboost import XGBClassifier"
   ]
  },
  {
   "cell_type": "markdown",
   "metadata": {},
   "source": [
    "Load Data"
   ]
  },
  {
   "cell_type": "code",
   "execution_count": 2,
   "metadata": {},
   "outputs": [],
   "source": [
    "path = \"C:/Users/tnovi/Documents/R/kaggle_mania_2021_Men/\""
   ]
  },
  {
   "cell_type": "code",
   "execution_count": 20,
   "metadata": {},
   "outputs": [],
   "source": [
    "#regresults = pd.read_csv(path + 'MDataFiles_Stage1/MRegularSeasonDetailedResults.csv')\n",
    "#results = pd.read_csv(path + 'MDataFiles_Stage1/MNCAATourneyDetailedResults.csv')\n",
    "#sub = pd.read_csv(path + 'MSampleSubmissionStage1_2020.csv')\n",
    "#seeds = pd.read_csv(path + 'MDataFiles_Stage1/MNCAATourneySeeds.csv')\n",
    "#data_matrix = pd.read_csv(path + 'data_matrix.csv')\n",
    "#sub_matrix = pd.read_csv(path + 'sub_matrix.csv')\n",
    "\n",
    "data_matrix_df = pd.read_csv(path + 'data_matrix_nn.csv')\n",
    "sub_matrix_df = pd.read_csv(path + 'sub_matrix_nn.csv')\n",
    "\n",
    "\n",
    "\n",
    "submission_df = pd.read_csv(path + 'MSampleSubmissionStage2.csv')\n",
    "#submission_df['Pred'] = predicts\n",
    "#submission_df.to_csv(path + 'submissionTN_Net_Stage2.csv', index=False)"
   ]
  },
  {
   "cell_type": "code",
   "execution_count": 21,
   "metadata": {},
   "outputs": [
    {
     "data": {
      "text/html": [
       "<div>\n",
       "<style scoped>\n",
       "    .dataframe tbody tr th:only-of-type {\n",
       "        vertical-align: middle;\n",
       "    }\n",
       "\n",
       "    .dataframe tbody tr th {\n",
       "        vertical-align: top;\n",
       "    }\n",
       "\n",
       "    .dataframe thead th {\n",
       "        text-align: right;\n",
       "    }\n",
       "</style>\n",
       "<table border=\"1\" class=\"dataframe\">\n",
       "  <thead>\n",
       "    <tr style=\"text-align: right;\">\n",
       "      <th></th>\n",
       "      <th>Season</th>\n",
       "      <th>T1</th>\n",
       "      <th>T2</th>\n",
       "      <th>T1_Points</th>\n",
       "      <th>T2_Points</th>\n",
       "      <th>ResultDiff</th>\n",
       "      <th>Location</th>\n",
       "      <th>T1_WinRatio14d</th>\n",
       "      <th>T1_Points_mean</th>\n",
       "      <th>T1_Points_sd</th>\n",
       "      <th>...</th>\n",
       "      <th>T2_AdjEM</th>\n",
       "      <th>T2_Adjo</th>\n",
       "      <th>T2_AdjD</th>\n",
       "      <th>T2_AdjT</th>\n",
       "      <th>T2_Luck</th>\n",
       "      <th>T2_SOS_AdjEM</th>\n",
       "      <th>T2_SOS_OppO</th>\n",
       "      <th>T2_SOS_OppD</th>\n",
       "      <th>T2_NCSOS_AdjEM</th>\n",
       "      <th>SeedDiff</th>\n",
       "    </tr>\n",
       "  </thead>\n",
       "  <tbody>\n",
       "    <tr>\n",
       "      <th>0</th>\n",
       "      <td>2004</td>\n",
       "      <td>1266</td>\n",
       "      <td>1385</td>\n",
       "      <td>52</td>\n",
       "      <td>45</td>\n",
       "      <td>7</td>\n",
       "      <td>2</td>\n",
       "      <td>0.795013</td>\n",
       "      <td>0.254267</td>\n",
       "      <td>-1.677046</td>\n",
       "      <td>...</td>\n",
       "      <td>0.948652</td>\n",
       "      <td>0.879058</td>\n",
       "      <td>-0.273593</td>\n",
       "      <td>0.976667</td>\n",
       "      <td>0.247893</td>\n",
       "      <td>0.615420</td>\n",
       "      <td>0.395812</td>\n",
       "      <td>-0.359931</td>\n",
       "      <td>0.059147</td>\n",
       "      <td>0.0</td>\n",
       "    </tr>\n",
       "    <tr>\n",
       "      <th>1</th>\n",
       "      <td>2004</td>\n",
       "      <td>1448</td>\n",
       "      <td>1272</td>\n",
       "      <td>85</td>\n",
       "      <td>76</td>\n",
       "      <td>9</td>\n",
       "      <td>3</td>\n",
       "      <td>-1.274569</td>\n",
       "      <td>2.423912</td>\n",
       "      <td>0.195303</td>\n",
       "      <td>...</td>\n",
       "      <td>1.261244</td>\n",
       "      <td>0.155263</td>\n",
       "      <td>-1.493849</td>\n",
       "      <td>0.707851</td>\n",
       "      <td>-1.444402</td>\n",
       "      <td>0.387986</td>\n",
       "      <td>0.241483</td>\n",
       "      <td>-0.288184</td>\n",
       "      <td>0.212565</td>\n",
       "      <td>0.0</td>\n",
       "    </tr>\n",
       "    <tr>\n",
       "      <th>2</th>\n",
       "      <td>2004</td>\n",
       "      <td>1338</td>\n",
       "      <td>1104</td>\n",
       "      <td>71</td>\n",
       "      <td>62</td>\n",
       "      <td>9</td>\n",
       "      <td>3</td>\n",
       "      <td>1.208929</td>\n",
       "      <td>-0.090797</td>\n",
       "      <td>-0.671150</td>\n",
       "      <td>...</td>\n",
       "      <td>1.914774</td>\n",
       "      <td>0.926058</td>\n",
       "      <td>-1.493849</td>\n",
       "      <td>1.030430</td>\n",
       "      <td>0.524518</td>\n",
       "      <td>0.784763</td>\n",
       "      <td>0.512889</td>\n",
       "      <td>-0.409603</td>\n",
       "      <td>0.494131</td>\n",
       "      <td>0.0</td>\n",
       "    </tr>\n",
       "  </tbody>\n",
       "</table>\n",
       "<p>3 rows × 162 columns</p>\n",
       "</div>"
      ],
      "text/plain": [
       "   Season    T1    T2  T1_Points  T2_Points  ResultDiff  Location  \\\n",
       "0    2004  1266  1385         52         45           7         2   \n",
       "1    2004  1448  1272         85         76           9         3   \n",
       "2    2004  1338  1104         71         62           9         3   \n",
       "\n",
       "   T1_WinRatio14d  T1_Points_mean  T1_Points_sd  ...  T2_AdjEM   T2_Adjo  \\\n",
       "0        0.795013        0.254267     -1.677046  ...  0.948652  0.879058   \n",
       "1       -1.274569        2.423912      0.195303  ...  1.261244  0.155263   \n",
       "2        1.208929       -0.090797     -0.671150  ...  1.914774  0.926058   \n",
       "\n",
       "    T2_AdjD   T2_AdjT   T2_Luck  T2_SOS_AdjEM  T2_SOS_OppO  T2_SOS_OppD  \\\n",
       "0 -0.273593  0.976667  0.247893      0.615420     0.395812    -0.359931   \n",
       "1 -1.493849  0.707851 -1.444402      0.387986     0.241483    -0.288184   \n",
       "2 -1.493849  1.030430  0.524518      0.784763     0.512889    -0.409603   \n",
       "\n",
       "   T2_NCSOS_AdjEM  SeedDiff  \n",
       "0        0.059147       0.0  \n",
       "1        0.212565       0.0  \n",
       "2        0.494131       0.0  \n",
       "\n",
       "[3 rows x 162 columns]"
      ]
     },
     "execution_count": 21,
     "metadata": {},
     "output_type": "execute_result"
    }
   ],
   "source": [
    "data_matrix_df.head(3)"
   ]
  },
  {
   "cell_type": "code",
   "execution_count": 22,
   "metadata": {},
   "outputs": [
    {
     "data": {
      "text/html": [
       "<div>\n",
       "<style scoped>\n",
       "    .dataframe tbody tr th:only-of-type {\n",
       "        vertical-align: middle;\n",
       "    }\n",
       "\n",
       "    .dataframe tbody tr th {\n",
       "        vertical-align: top;\n",
       "    }\n",
       "\n",
       "    .dataframe thead th {\n",
       "        text-align: right;\n",
       "    }\n",
       "</style>\n",
       "<table border=\"1\" class=\"dataframe\">\n",
       "  <thead>\n",
       "    <tr style=\"text-align: right;\">\n",
       "      <th></th>\n",
       "      <th>ID</th>\n",
       "      <th>Pred</th>\n",
       "      <th>Season</th>\n",
       "      <th>T1</th>\n",
       "      <th>T2</th>\n",
       "      <th>T1_WinRatio14d</th>\n",
       "      <th>T1_Points_mean</th>\n",
       "      <th>T1_Points_sd</th>\n",
       "      <th>T1_Points_median</th>\n",
       "      <th>T1_fgm_mean</th>\n",
       "      <th>...</th>\n",
       "      <th>T2_AdjEM</th>\n",
       "      <th>T2_Adjo</th>\n",
       "      <th>T2_AdjD</th>\n",
       "      <th>T2_AdjT</th>\n",
       "      <th>T2_Luck</th>\n",
       "      <th>T2_SOS_AdjEM</th>\n",
       "      <th>T2_SOS_OppO</th>\n",
       "      <th>T2_SOS_OppD</th>\n",
       "      <th>T2_NCSOS_AdjEM</th>\n",
       "      <th>SeedDiff</th>\n",
       "    </tr>\n",
       "  </thead>\n",
       "  <tbody>\n",
       "    <tr>\n",
       "      <th>0</th>\n",
       "      <td>2021_1101_1104</td>\n",
       "      <td>0.5</td>\n",
       "      <td>2021</td>\n",
       "      <td>1101</td>\n",
       "      <td>1104</td>\n",
       "      <td>0.918003</td>\n",
       "      <td>0.218961</td>\n",
       "      <td>0.073081</td>\n",
       "      <td>0.786308</td>\n",
       "      <td>0.094104</td>\n",
       "      <td>...</td>\n",
       "      <td>1.082706</td>\n",
       "      <td>0.202276</td>\n",
       "      <td>-1.700092</td>\n",
       "      <td>2.202315</td>\n",
       "      <td>0.289162</td>\n",
       "      <td>0.735034</td>\n",
       "      <td>0.736355</td>\n",
       "      <td>-0.704356</td>\n",
       "      <td>0.569475</td>\n",
       "      <td>1.947933</td>\n",
       "    </tr>\n",
       "    <tr>\n",
       "      <th>1</th>\n",
       "      <td>2021_1101_1111</td>\n",
       "      <td>0.5</td>\n",
       "      <td>2021</td>\n",
       "      <td>1101</td>\n",
       "      <td>1111</td>\n",
       "      <td>0.918003</td>\n",
       "      <td>0.218961</td>\n",
       "      <td>0.073081</td>\n",
       "      <td>0.786308</td>\n",
       "      <td>0.094104</td>\n",
       "      <td>...</td>\n",
       "      <td>-2.365438</td>\n",
       "      <td>-1.927457</td>\n",
       "      <td>1.899863</td>\n",
       "      <td>-0.641914</td>\n",
       "      <td>0.897292</td>\n",
       "      <td>-1.426195</td>\n",
       "      <td>-1.434239</td>\n",
       "      <td>1.369376</td>\n",
       "      <td>0.201534</td>\n",
       "      <td>0.024486</td>\n",
       "    </tr>\n",
       "    <tr>\n",
       "      <th>2</th>\n",
       "      <td>2021_1101_1116</td>\n",
       "      <td>0.5</td>\n",
       "      <td>2021</td>\n",
       "      <td>1101</td>\n",
       "      <td>1116</td>\n",
       "      <td>0.918003</td>\n",
       "      <td>0.218961</td>\n",
       "      <td>0.073081</td>\n",
       "      <td>0.786308</td>\n",
       "      <td>0.094104</td>\n",
       "      <td>...</td>\n",
       "      <td>0.675935</td>\n",
       "      <td>0.167646</td>\n",
       "      <td>-1.022454</td>\n",
       "      <td>1.924829</td>\n",
       "      <td>0.813412</td>\n",
       "      <td>0.356158</td>\n",
       "      <td>0.397200</td>\n",
       "      <td>-0.295067</td>\n",
       "      <td>-1.079273</td>\n",
       "      <td>1.787646</td>\n",
       "    </tr>\n",
       "  </tbody>\n",
       "</table>\n",
       "<p>3 rows × 160 columns</p>\n",
       "</div>"
      ],
      "text/plain": [
       "               ID  Pred  Season    T1    T2  T1_WinRatio14d  T1_Points_mean  \\\n",
       "0  2021_1101_1104   0.5    2021  1101  1104        0.918003        0.218961   \n",
       "1  2021_1101_1111   0.5    2021  1101  1111        0.918003        0.218961   \n",
       "2  2021_1101_1116   0.5    2021  1101  1116        0.918003        0.218961   \n",
       "\n",
       "   T1_Points_sd  T1_Points_median  T1_fgm_mean  ...  T2_AdjEM   T2_Adjo  \\\n",
       "0      0.073081          0.786308     0.094104  ...  1.082706  0.202276   \n",
       "1      0.073081          0.786308     0.094104  ... -2.365438 -1.927457   \n",
       "2      0.073081          0.786308     0.094104  ...  0.675935  0.167646   \n",
       "\n",
       "    T2_AdjD   T2_AdjT   T2_Luck  T2_SOS_AdjEM  T2_SOS_OppO  T2_SOS_OppD  \\\n",
       "0 -1.700092  2.202315  0.289162      0.735034     0.736355    -0.704356   \n",
       "1  1.899863 -0.641914  0.897292     -1.426195    -1.434239     1.369376   \n",
       "2 -1.022454  1.924829  0.813412      0.356158     0.397200    -0.295067   \n",
       "\n",
       "   T2_NCSOS_AdjEM  SeedDiff  \n",
       "0        0.569475  1.947933  \n",
       "1        0.201534  0.024486  \n",
       "2       -1.079273  1.787646  \n",
       "\n",
       "[3 rows x 160 columns]"
      ]
     },
     "execution_count": 22,
     "metadata": {},
     "output_type": "execute_result"
    }
   ],
   "source": [
    "sub_matrix_df.head(3)"
   ]
  },
  {
   "cell_type": "code",
   "execution_count": 23,
   "metadata": {},
   "outputs": [
    {
     "data": {
      "text/html": [
       "<div>\n",
       "<style scoped>\n",
       "    .dataframe tbody tr th:only-of-type {\n",
       "        vertical-align: middle;\n",
       "    }\n",
       "\n",
       "    .dataframe tbody tr th {\n",
       "        vertical-align: top;\n",
       "    }\n",
       "\n",
       "    .dataframe thead th {\n",
       "        text-align: right;\n",
       "    }\n",
       "</style>\n",
       "<table border=\"1\" class=\"dataframe\">\n",
       "  <thead>\n",
       "    <tr style=\"text-align: right;\">\n",
       "      <th></th>\n",
       "      <th>ID</th>\n",
       "      <th>Pred</th>\n",
       "    </tr>\n",
       "  </thead>\n",
       "  <tbody>\n",
       "    <tr>\n",
       "      <th>0</th>\n",
       "      <td>2021_1101_1104</td>\n",
       "      <td>0.5</td>\n",
       "    </tr>\n",
       "    <tr>\n",
       "      <th>1</th>\n",
       "      <td>2021_1101_1111</td>\n",
       "      <td>0.5</td>\n",
       "    </tr>\n",
       "    <tr>\n",
       "      <th>2</th>\n",
       "      <td>2021_1101_1116</td>\n",
       "      <td>0.5</td>\n",
       "    </tr>\n",
       "    <tr>\n",
       "      <th>3</th>\n",
       "      <td>2021_1101_1124</td>\n",
       "      <td>0.5</td>\n",
       "    </tr>\n",
       "    <tr>\n",
       "      <th>4</th>\n",
       "      <td>2021_1101_1140</td>\n",
       "      <td>0.5</td>\n",
       "    </tr>\n",
       "  </tbody>\n",
       "</table>\n",
       "</div>"
      ],
      "text/plain": [
       "               ID  Pred\n",
       "0  2021_1101_1104   0.5\n",
       "1  2021_1101_1111   0.5\n",
       "2  2021_1101_1116   0.5\n",
       "3  2021_1101_1124   0.5\n",
       "4  2021_1101_1140   0.5"
      ]
     },
     "execution_count": 23,
     "metadata": {},
     "output_type": "execute_result"
    }
   ],
   "source": [
    "submission_df.head(5)"
   ]
  },
  {
   "cell_type": "code",
   "execution_count": 24,
   "metadata": {},
   "outputs": [],
   "source": [
    "data_matrix_df.loc[data_matrix_df['ResultDiff'] >= 0, 'WL'] = 1 \n",
    "data_matrix_df.loc[data_matrix_df['ResultDiff']< 0, 'WL'] = 0\n",
    "\n",
    "#data_matrix_df['Win'] = 0\n",
    "#data_matrix_df.loc[data_matrix_df['T1_Points'] > data_matrix_df['T2_Points'],'Win'] = 1"
   ]
  },
  {
   "cell_type": "markdown",
   "metadata": {},
   "source": [
    "Factors for NN"
   ]
  },
  {
   "cell_type": "code",
   "execution_count": 25,
   "metadata": {},
   "outputs": [],
   "source": [
    "#  get the list of factors for the nn\n",
    "toDrop = {'Season','T1','T1_Points','T2','T2_Points','Location','ResultDiff','WL'}\n",
    "ind_var_selected = set(data_matrix_df.columns).difference(toDrop)\n",
    "ind_var_selected = list(ind_var_selected)\n",
    "\n",
    "#toDropSub = {'Season','DayNum','T1','T2','T_Points','Location','ResultDiff','WL'}\n",
    "ind_var_selected_sub = set(sub_matrix_df.columns).intersection(ind_var_selected)\n",
    "ind_var_selected_sub = list(ind_var_selected)\n"
   ]
  },
  {
   "cell_type": "code",
   "execution_count": 26,
   "metadata": {},
   "outputs": [
    {
     "data": {
      "text/plain": [
       "True"
      ]
     },
     "execution_count": 26,
     "metadata": {},
     "output_type": "execute_result"
    }
   ],
   "source": [
    "ind_var_selected == ind_var_selected_sub"
   ]
  },
  {
   "cell_type": "code",
   "execution_count": 27,
   "metadata": {},
   "outputs": [],
   "source": [
    "X_train = data_matrix_df[ind_var_selected].reset_index(drop=True)\n",
    "y_train = data_matrix_df['WL'].reset_index(drop=True)"
   ]
  },
  {
   "cell_type": "code",
   "execution_count": 10,
   "metadata": {},
   "outputs": [],
   "source": [
    "temp_df = data_matrix_df[data_matrix_df['Season']==2017]\n",
    "\n",
    "X_valid = temp_df[ind_var_selected].reset_index(drop=True)\n",
    "y_valid = temp_df['WL'].reset_index(drop=True)\n"
   ]
  },
  {
   "cell_type": "code",
   "execution_count": 28,
   "metadata": {},
   "outputs": [],
   "source": [
    "X_sub = sub_matrix_df[ind_var_selected_sub].reset_index(drop=True)"
   ]
  },
  {
   "cell_type": "code",
   "execution_count": 29,
   "metadata": {},
   "outputs": [],
   "source": [
    "X_train = X_train.astype(\"float64\")\n",
    "X_valid = X_valid.astype(\"float64\")\n",
    "y_train = y_train.astype(\"float64\")\n",
    "y_valid = y_valid.astype(\"float64\")\n",
    "X_sub =   X_sub.astype(\"float64\")"
   ]
  },
  {
   "cell_type": "code",
   "execution_count": 30,
   "metadata": {},
   "outputs": [],
   "source": [
    "def LogLoss(predictions, realizations):\n",
    "    predictions_use = predictions.clip(0)\n",
    "    realizations_use = realizations.clip(0)\n",
    "    LogLoss = -np.mean( (realizations_use * np.log(predictions_use)) + \n",
    "                        (1 - realizations_use) * np.log(1 - predictions_use) )\n",
    "    return LogLoss"
   ]
  },
  {
   "cell_type": "code",
   "execution_count": 116,
   "metadata": {},
   "outputs": [],
   "source": [
    "#scaler = StandardScaler()\n",
    "#scaler.fit(X_train)  # Fit only to the training data\n",
    "#scaled_X_train = pd.DataFrame(scaler.transform(X_train), index=X_train.index, columns=X_train.columns)\n",
    "#scaled_X_valid = pd.DataFrame(scaler.transform(X_valid), index=X_valid.index, columns=X_valid.columns)\n",
    "#scaled_X_sub = pd.DataFrame(scaler.transform(X_sub), index=X_sub.index, columns=X_sub.columns)"
   ]
  },
  {
   "cell_type": "code",
   "execution_count": 117,
   "metadata": {},
   "outputs": [],
   "source": [
    "#scaled_X_train.fillna(0.0001, inplace=True)\n",
    "#scaled_X_valid.fillna(0.0001, inplace=True)\n",
    "#scaled_X_sub.fillna(0.0001, inplace=True)"
   ]
  },
  {
   "cell_type": "code",
   "execution_count": 24,
   "metadata": {},
   "outputs": [],
   "source": [
    "nn = MLPClassifier(activation='relu', hidden_layer_sizes=(8,5,3),random_state=201, max_iter=1000)\n",
    "#nn.fit(scaled_X_train,y_train)\n",
    "nn.fit(X_train,y_train)\n",
    "nn_pred = pd.DataFrame(nn.predict_proba(X_valid))[1]\n",
    "nn_pred_sub = pd.DataFrame(nn.predict_proba(X_sub))[1]"
   ]
  },
  {
   "cell_type": "code",
   "execution_count": 31,
   "metadata": {},
   "outputs": [],
   "source": [
    "nn = MLPClassifier(activation='relu', hidden_layer_sizes=(8,8,5,3),random_state=201, max_iter=1000)\n",
    "\n",
    "nn.fit(X_train,y_train)\n",
    "nn_pred = pd.DataFrame(nn.predict_proba(X_valid))[1]\n",
    "nn_pred_sub = pd.DataFrame(nn.predict_proba(X_sub))[1]"
   ]
  },
  {
   "cell_type": "code",
   "execution_count": 15,
   "metadata": {},
   "outputs": [
    {
     "data": {
      "text/plain": [
       "0.4808619648393092"
      ]
     },
     "execution_count": 15,
     "metadata": {},
     "output_type": "execute_result"
    }
   ],
   "source": [
    "LogLoss(nn_pred, y_valid)"
   ]
  },
  {
   "cell_type": "code",
   "execution_count": 16,
   "metadata": {},
   "outputs": [
    {
     "data": {
      "text/plain": [
       "0       0.005070\n",
       "1       0.940318\n",
       "2       0.004087\n",
       "3       0.001426\n",
       "4       0.007250\n",
       "          ...   \n",
       "2273    0.625677\n",
       "2274    0.984786\n",
       "2275    0.413597\n",
       "2276    0.867142\n",
       "2277    0.806076\n",
       "Name: 1, Length: 2278, dtype: float64"
      ]
     },
     "execution_count": 16,
     "metadata": {},
     "output_type": "execute_result"
    }
   ],
   "source": [
    "nn_pred_sub"
   ]
  },
  {
   "cell_type": "code",
   "execution_count": 32,
   "metadata": {},
   "outputs": [],
   "source": [
    "#submission_df = pd.read_csv(path + 'subMatrix2020.csv')\n",
    "submission_df['Pred'] = nn_pred_sub\n",
    "submission_df.to_csv(path + 'submissionTN_Net_Stage_2_4_hidden.csv', index=False)"
   ]
  },
  {
   "cell_type": "code",
   "execution_count": 33,
   "metadata": {},
   "outputs": [
    {
     "data": {
      "text/plain": [
       "<matplotlib.axes._subplots.AxesSubplot at 0x1dd0c6c9148>"
      ]
     },
     "execution_count": 33,
     "metadata": {},
     "output_type": "execute_result"
    },
    {
     "data": {
      "image/png": "[encoded data removed]",
      "text/plain": [
       "<Figure size 432x288 with 1 Axes>"
      ]
     },
     "metadata": {
      "needs_background": "light"
     },
     "output_type": "display_data"
    }
   ],
   "source": [
    "sns.distplot(nn_pred_sub)"
   ]
  }
 ],
 "metadata": {
  "kernelspec": {
   "display_name": "Python 3",
   "language": "python",
   "name": "python3"
  },
  "language_info": {
   "codemirror_mode": {
    "name": "ipython",
    "version": 3
   },
   "file_extension": ".py",
   "mimetype": "text/x-python",
   "name": "python",
   "nbconvert_exporter": "python",
   "pygments_lexer": "ipython3",
   "version": "3.7.7"
  }
 },
 "nbformat": 4,
 "nbformat_minor": 2
}
